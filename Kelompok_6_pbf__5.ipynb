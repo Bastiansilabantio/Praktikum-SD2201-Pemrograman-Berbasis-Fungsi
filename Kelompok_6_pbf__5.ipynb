{
  "cells": [
    {
      "cell_type": "markdown",
      "metadata": {
        "id": "71n0_-a00D0W"
      },
      "source": [
        "Kode Program Untuk semua Kriteria\n"
      ]
    },
    {
      "cell_type": "markdown",
      "source": [],
      "metadata": {
        "id": "4HHXbXM7llAi"
      }
    },
    {
      "cell_type": "code",
      "execution_count": 16,
      "metadata": {
        "id": "fAURcgWmeXRs",
        "colab": {
          "base_uri": "https://localhost:8080/"
        },
        "outputId": "fd7424b1-bfdf-4067-8a32-9abab21d8723"
      },
      "outputs": [
        {
          "output_type": "stream",
          "name": "stdout",
          "text": [
            "Biaya UKT yang harus dibayarkan: 2600000.0\n"
          ]
        }
      ],
      "source": [
        "def skor_tanggungan(jumlah_tanggungan):\n",
        "  if jumlah_tanggungan >= 5:\n",
        "    return 1\n",
        "  else:\n",
        "    return 5 - jumlah_tanggungan\n",
        "\n",
        "def skor_listrik(rata_rata_listrik):\n",
        "  if rata_rata_listrik > 200000:\n",
        "    return 3\n",
        "  elif 50000 <= rata_rata_listrik <= 200000:\n",
        "    return 2\n",
        "  else:\n",
        "    return 1\n",
        "\n",
        "def skor_gaji(gaji):\n",
        "  if gaji > 100000000:\n",
        "    return 7\n",
        "  elif 8000000 < gaji <= 10000000:\n",
        "    return 6\n",
        "  elif 6000000 < gaji <= 8000000:\n",
        "    return 5\n",
        "  elif 4000000 < gaji <= 6000000:\n",
        "    return 4\n",
        "  elif 3000000 < gaji <= 4000000:\n",
        "    return 3\n",
        "  else:\n",
        "    return 2\n",
        "\n",
        "def hitung_biaya_ukt(jumlah_tanggungan, listrik, gaji, kip_k):\n",
        "  skor_1 = skor_tanggungan(jumlah_tanggungan)\n",
        "  skor_2 = skor_listrik(sum(listrik) / len(listrik))\n",
        "  skor_3 = skor_gaji(gaji)\n",
        "  skor_4 = skor_kip_k(kip_k)\n",
        "\n",
        "  skor_total = 0.2 * skor_1 + 0.3 * skor_2 + 0.2 * skor_3 + 0.3 * skor_4\n",
        "  biaya_pokok = 750000\n",
        "  jumlah_bayar_ukt = biaya_pokok + skor_total * 500000\n",
        "  return jumlah_bayar_ukt\n",
        "\n",
        "# Contoh input\n",
        "jumlah_tanggungan = 1\n",
        "listrik = [120000, 75000, 50000]\n",
        "gaji = 5000000\n",
        "kip_k = False\n",
        "\n",
        "\n",
        "biaya_ukt = hitung_biaya_ukt(jumlah_tanggungan, listrik, gaji, kip_k)\n",
        "print(\"Biaya UKT yang harus dibayarkan:\", biaya_ukt)\n"
      ]
    },
    {
      "cell_type": "code",
      "source": [],
      "metadata": {
        "id": "kEePr26drjhT"
      },
      "execution_count": null,
      "outputs": []
    }
  ],
  "metadata": {
    "colab": {
      "provenance": []
    },
    "kernelspec": {
      "display_name": "Python 3",
      "name": "python3"
    },
    "language_info": {
      "name": "python"
    }
  },
  "nbformat": 4,
  "nbformat_minor": 0
}