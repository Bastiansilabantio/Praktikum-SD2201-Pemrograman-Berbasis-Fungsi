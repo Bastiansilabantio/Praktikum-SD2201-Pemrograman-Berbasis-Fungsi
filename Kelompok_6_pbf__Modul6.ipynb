{
  "cells": [
    {
      "cell_type": "markdown",
      "metadata": {
        "id": "71n0_-a00D0W"
      },
      "source": [
        "Kode Program Untuk semua Kriteria\n"
      ]
    },
    {
      "cell_type": "markdown",
      "source": [],
      "metadata": {
        "id": "4HHXbXM7llAi"
      }
    },
    {
      "cell_type": "code",
      "source": [
        "# Sample employee data\n",
        "employees = [\n",
        "    {\"Nama\": \"Budi\", \"Departemen\": \"IT\", \"Gaji\": 5000000},\n",
        "    {\"Nama\": \"Ani\", \"Departemen\": \"Marketing\", \"Gaji\": 8000000},\n",
        "    {\"Nama\": \"Caca\", \"Departemen\": \"IT\", \"Gaji\": 4500000},\n",
        "    {\"Nama\": \"Doni\", \"Departemen\": \"Marketing\", \"Gaji\": 9000000},\n",
        "    {\"Nama\": \"Eka\", \"Departemen\": \"Finance\", \"Gaji\": 7000000},\n",
        "    {\"Nama\": \"Aji\", \"Departemen\": \"HR\", \"Gaji\": 18000000},\n",
        "    {\"Nama\": \"Andi\", \"Departemen\": \"Accountant\", \"Gaji\": 2000000},\n",
        "    {\"Nama\": \"Dio\", \"Departemen\": \"Data Engineering\", \"Gaji\": 45000000},\n",
        "    {\"Nama\": \"Ilham\", \"Departemen\": \"Security\", \"Gaji\": 900000},\n",
        "    {\"Nama\": \"Abbas\", \"Departemen\": \"HR\", \"Gaji\": 12000000},\n",
        "]\n",
        "\n",
        "# 1. Filter employees by department (using filter)\n",
        "def filter_by_department(data, department):\n",
        "    return [emp for emp in data if emp[\"Departemen\"] == department]\n",
        "\n",
        "it_employees = filter_by_department(employees, \"IT\")\n",
        "marketing_employees = filter_by_department(employees, \"Marketing\")\n",
        "\n",
        "# 2. Map gaji (salary) to a new list (using map)\n",
        "def get_gaji(employee):\n",
        "    return employee[\"Gaji\"]\n",
        "\n",
        "gaji_list = list(map(get_gaji, employees))\n",
        "\n",
        "# 3. Reduce gaji (salary) to a total sum (using reduce)\n",
        "from functools import reduce\n",
        "\n",
        "total_gaji = reduce(lambda x, y: x + y, gaji_list)\n",
        "\n",
        "# 4. Group employees by department and calculate average gaji (using groupby)\n",
        "from itertools import groupby\n",
        "\n",
        "def calculate_average_gaji(data):\n",
        "    average_gaji_per_dept = {}\n",
        "    for department, dept_employees in groupby(data, key=lambda x: x[\"Departemen\"]):\n",
        "        dept_gaji_list = [emp[\"Gaji\"] for emp in dept_employees]\n",
        "        average_gaji = sum(dept_gaji_list) / len(dept_gaji_list)\n",
        "        average_gaji_per_dept[department] = average_gaji\n",
        "    return average_gaji_per_dept\n",
        "\n",
        "average_gaji_by_dept = calculate_average_gaji(employees)\n",
        "\n",
        "# Print results\n",
        "print(\"IT Employees:\", it_employees)\n",
        "print(\"Marketing Employees:\", marketing_employees)\n",
        "print(\"Total Gaji:\", total_gaji)\n",
        "print(\"Average Gaji per Department:\", average_gaji_by_dept)\n",
        "\n"
      ],
      "metadata": {
        "colab": {
          "base_uri": "https://localhost:8080/"
        },
        "id": "t0-EVyVkmUBk",
        "outputId": "d9e069c1-6f95-430a-8d75-cde5db478945"
      },
      "execution_count": 28,
      "outputs": [
        {
          "output_type": "stream",
          "name": "stdout",
          "text": [
            "IT Employees: [{'Nama': 'Budi', 'Departemen': 'IT', 'Gaji': 5000000}, {'Nama': 'Caca', 'Departemen': 'IT', 'Gaji': 4500000}]\n",
            "Marketing Employees: [{'Nama': 'Ani', 'Departemen': 'Marketing', 'Gaji': 8000000}, {'Nama': 'Doni', 'Departemen': 'Marketing', 'Gaji': 9000000}]\n",
            "Total Gaji: 111400000\n",
            "Average Gaji per Department: {'IT': 4500000.0, 'Marketing': 9000000.0, 'Finance': 7000000.0, 'HR': 12000000.0, 'Accountant': 2000000.0, 'Data Engineering': 45000000.0, 'Security': 900000.0}\n"
          ]
        }
      ]
    },
    {
      "cell_type": "code",
      "source": [],
      "metadata": {
        "id": "cFMgwU37pcBK"
      },
      "execution_count": null,
      "outputs": []
    }
  ],
  "metadata": {
    "colab": {
      "provenance": []
    },
    "kernelspec": {
      "display_name": "Python 3",
      "name": "python3"
    },
    "language_info": {
      "name": "python"
    }
  },
  "nbformat": 4,
  "nbformat_minor": 0
}